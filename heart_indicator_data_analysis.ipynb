{
 "cells": [
  {
   "cell_type": "markdown",
   "metadata": {},
   "source": [
    "# <b> EDA on 2022 annual CDC survey data of 400k+ adults related to their health status."
   ]
  },
  {
   "cell_type": "markdown",
   "metadata": {},
   "source": [
    "### **Contributers:** \n",
    "\n",
    "- Ali Bin Kashif : [Know about Ali here.](https://www.linkedin.com/in/ali-bin-kashif/)\n",
    "- Muhammad Aman : [Know about Aman here](https://www.linkedin.com/in/muhammad-aman-5a9317288/)"
   ]
  },
  {
   "cell_type": "markdown",
   "metadata": {},
   "source": [
    "### <b>About Dataset:</b>\n",
    "\n",
    "According to the CDC, heart disease is a leading cause of death for people of most races in the U.S. (African Americans, American Indians and Alaska Natives, and whites). About half of all Americans (47%) have at least 1 of 3 major risk factors for heart disease: high blood pressure, high cholesterol, and smoking. Other key indicators include diabetes status, obesity (high BMI), not getting enough physical activity, or drinking too much alcohol. Identifying and preventing the factors that have the greatest impact on heart disease is very important in healthcare. In turn, developments in computing allow the application of machine learning methods to detect \"patterns\" in the data that can predict a patient's condition.\n",
    "\n",
    "The dataset originally comes from the CDC and is a major part of the Behavioral Risk Factor Surveillance System (BRFSS), which conducts annual telephone surveys to collect data on the health status of U.S. residents. As described by the CDC: \"Established in 1984 with 15 states, BRFSS now collects data in all 50 states, the District of Columbia, and three U.S. territories. BRFSS completes more than 400,000 adult interviews each year, making it the largest continuously conducted health survey system in the world."
   ]
  },
  {
   "cell_type": "markdown",
   "metadata": {},
   "source": [
    "### **Variables**:\n",
    "\n",
    "- **State :** The U.S. state where the individual resides.\n",
    "\n",
    "- **Sex :** Gender of the individual (Male or Female).\n",
    "\n",
    "- **GeneralHealth :** Self-reported general health status of the individual.\n",
    "\n",
    "- **PhysicalHealthDays :** Number of days in the past 30 days that physical health was not good.\n",
    "\n",
    "- **MentalHealthDays :** Number of days in the past 30 days that mental health was not good.\n",
    "\n",
    "- **LastCheckupTime :** Time since the last routine checkup or health examination.\n",
    "\n",
    "- **PhysicalActivities :** Frequency of engaging in physical activities or exercises.\n",
    "\n",
    "- **SleepHours :** Average number of hours of sleep per night.\n",
    "\n",
    "- **RemovedTeeth :** Number of permanent teeth removed due to dental issues.\n",
    "\n",
    "- **HadHeartAttack :** Whether the individual has had a heart attack.\n",
    "\n",
    "- **HadAngina :** Whether the individual has experienced angina (chest pain or discomfort).\n",
    "\n",
    "- **HadStroke :** Whether the individual has had a stroke.\n",
    "\n",
    "- **HadAsthma :** Whether the individual has had asthma.\n",
    "\n",
    "- **HadSkinCancer :** Whether the individual has had skin cancer.\n",
    "\n",
    "- **HadCOPD :** Whether the individual has had Chronic Obstructive Pulmonary Disease (COPD).\n",
    "\n",
    "- **HadDepressiveDisorder :** Whether the individual has had a depressive disorder.\n",
    "\n",
    "- **HadKidneyDisease :** Whether the individual has had kidney disease.\n",
    "\n",
    "- **HadArthritis :** Whether the individual has had arthritis.\n",
    "\n",
    "- **HadDiabetes :** Whether the individual has had diabetes.\n",
    "\n",
    "- **DeafOrHardOfHearing :** Whether the individual is deaf or hard of hearing.\n",
    "\n",
    "- **BlindOrVisionDifficulty :** Whether the individual has blindness or vision difficulty.\n",
    "\n",
    "- **DifficultyConcentrating :** Self-reported difficulty in concentrating.\n",
    "\n",
    "- **DifficultyWalking :** Self-reported difficulty in walking.\n",
    "\n",
    "- **DifficultyDressingBathing :** Self-reported difficulty in dressing or bathing.\n",
    "\n",
    "- **DifficultyErrands :** Self-reported difficulty in running errands.\n",
    "\n",
    "- **SmokerStatus :** Current smoking status of the individual (smoker, former smoker, non-smoker).\n",
    "\n",
    "- **ECigaretteUsage :** Whether the individual uses e-cigarettes.\n",
    "\n",
    "- **ChestScan :** Whether the individual has had a chest scan.\n",
    "\n",
    "- **RaceEthnicityCategory :** Categorized race or ethnicity of the individual.\n",
    "\n",
    "- **AgeCategory :** Categorized age group of the individual.\n",
    "\n",
    "- **HeightInMeters :** Height of the individual in meters.\n",
    "\n",
    "- **WeightInKilograms :** Weight of the individual in kilograms.\n",
    "\n",
    "- **BMI :** Body Mass Index calculated from height and weight.\n",
    "\n",
    "- **AlcoholDrinkers :** Whether the individual consumes alcohol.\n",
    "\n",
    "- **HIVTesting :** Whether the individual has undergone HIV testing.\n",
    "\n",
    "- **FluVaxLast12 :** Whether the individual received a flu vaccine in the last 12 months.\n",
    "\n",
    "- **PneumoVaxEver :** Whether the individual has ever received a pneumonia vaccine.\n",
    "\n",
    "- **TetanusLast10Tdap :** Time since the last tetanus vaccination (in the last 10 years, received Tdap).\n",
    "\n",
    "- **HighRiskLastYear :** Whether the individual has been considered at high risk for the past year.\n",
    "\n",
    "- **CovidPos :** Whether the individual tested positive for COVID-19.\n"
   ]
  },
  {
   "cell_type": "markdown",
   "metadata": {},
   "source": [
    "# Problem Statement:"
   ]
  },
  {
   "cell_type": "markdown",
   "metadata": {},
   "source": [
    "### **Understanding and Mitigating Cardiovascular Health Disparities:** An In-Depth Analysis of Risk Factors and Health Behaviors in the Adult Population.\n",
    "\n",
    "The problem centers on identifying and understanding the factors that exert the most significant influence on heart disease prevalence.This exploration is crucial for healthcare initiatives and interventions aimed at prevention and management. The dataset encompasses a range of variables, including demographic information, health behaviors, chronic conditions, and COVID-19 status, providing a rich source for uncovering patterns, correlations, and disparities in cardiovascular health.\n",
    "\n",
    "We're looking at big questions like what things make heart problems more likely, how mental and physical health are linked, what habits and steps help prevent heart issues, how other health problems affect the heart, and if issues like hearing or vision problems are connected to heart disease. We're also checking how smoking and e-cigarettes are used and how COVID-19 affects heart health.\n",
    "\n",
    "Our main goal is to extract actionable insights from this wealth of data. We want to make plans that focus on specific things to help reduce differences in heart health and make everyone's heart healthier in the adult population."
   ]
  },
  {
   "cell_type": "markdown",
   "metadata": {},
   "source": []
  },
  {
   "cell_type": "markdown",
   "metadata": {},
   "source": [
    "# Research and Analytical Questions:"
   ]
  },
  {
   "cell_type": "markdown",
   "metadata": {},
   "source": []
  }
 ],
 "metadata": {
  "kernelspec": {
   "display_name": "Python 3",
   "language": "python",
   "name": "python3"
  },
  "language_info": {
   "codemirror_mode": {
    "name": "ipython",
    "version": 3
   },
   "file_extension": ".py",
   "mimetype": "text/x-python",
   "name": "python",
   "nbconvert_exporter": "python",
   "pygments_lexer": "ipython3",
   "version": "3.10.7"
  }
 },
 "nbformat": 4,
 "nbformat_minor": 2
}
